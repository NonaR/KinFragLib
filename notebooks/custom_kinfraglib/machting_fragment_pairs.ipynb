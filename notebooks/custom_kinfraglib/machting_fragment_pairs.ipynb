{
 "cells": [
  {
   "cell_type": "markdown",
   "id": "a49f34ad-1a49-4490-a9db-61dccd55c5bc",
   "metadata": {},
   "source": [
    "# Find matching fragment pairs"
   ]
  },
  {
   "cell_type": "markdown",
   "id": "23a8056d-1e14-420f-ba7b-0f970864873e",
   "metadata": {},
   "source": [
    "Conditions\n",
    "- dummy atoms have complementary subpockets\n",
    "- dummy atoms have identical BRICS environment\n",
    "- dummy atoms have same bond type"
   ]
  },
  {
   "cell_type": "markdown",
   "id": "28dd58e4-f11c-43e4-8ecb-c0ee4e6aa1ff",
   "metadata": {},
   "source": [
    "## 1. Load Fragment library"
   ]
  },
  {
   "cell_type": "code",
   "execution_count": null,
   "id": "e38e80bd-634f-40de-9293-648fbc5503cd",
   "metadata": {},
   "outputs": [],
   "source": []
  },
  {
   "cell_type": "markdown",
   "id": "b35f3fc3-ad6f-49dc-bc0e-ccfc09d1cef4",
   "metadata": {},
   "source": [
    "## 2. Apply Filters to fragment library"
   ]
  },
  {
   "cell_type": "code",
   "execution_count": null,
   "id": "0f8a8479-5371-4e0d-8d3e-2c3bcfb25bfd",
   "metadata": {},
   "outputs": [],
   "source": []
  },
  {
   "cell_type": "markdown",
   "id": "1952d7bd-3c08-4e86-8e30-50e0ad247fdf",
   "metadata": {},
   "source": [
    "## 3. Get matching fragment pairs and check conditions"
   ]
  },
  {
   "cell_type": "code",
   "execution_count": null,
   "id": "49a19e29-ad7b-44b0-9edf-2bd3b778b2a5",
   "metadata": {},
   "outputs": [],
   "source": []
  },
  {
   "cell_type": "code",
   "execution_count": null,
   "id": "f6baafa1-c3e7-41ec-af35-5073d3ae8e92",
   "metadata": {},
   "outputs": [],
   "source": []
  },
  {
   "cell_type": "code",
   "execution_count": null,
   "id": "1863ab6f-a78c-4fde-85c2-9c5892a94de1",
   "metadata": {},
   "outputs": [],
   "source": []
  },
  {
   "cell_type": "code",
   "execution_count": null,
   "id": "48a4ab9b-758b-44a0-8eaa-1b701281a990",
   "metadata": {},
   "outputs": [],
   "source": []
  }
 ],
 "metadata": {
  "kernelspec": {
   "display_name": "Python 3",
   "language": "python",
   "name": "python3"
  },
  "language_info": {
   "codemirror_mode": {
    "name": "ipython",
    "version": 3
   },
   "file_extension": ".py",
   "mimetype": "text/x-python",
   "name": "python",
   "nbconvert_exporter": "python",
   "pygments_lexer": "ipython3",
   "version": "3.8.10"
  }
 },
 "nbformat": 4,
 "nbformat_minor": 5
}
