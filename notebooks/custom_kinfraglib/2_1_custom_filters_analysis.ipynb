{
 "cells": [
  {
   "cell_type": "markdown",
   "id": "9e527a41-63b7-44e6-bcd6-8c6c45d248b4",
   "metadata": {},
   "source": [
    "# Analysis of custom filters"
   ]
  },
  {
   "cell_type": "code",
   "execution_count": 1,
   "id": "6fb77f33-85b4-46c7-8ac4-0cdca21a71e8",
   "metadata": {},
   "outputs": [],
   "source": [
    "# compare original fragment library, paulas subset, custom subset"
   ]
  },
  {
   "cell_type": "markdown",
   "id": "adfebf34-900b-485d-80ce-76cfadfcfdb3",
   "metadata": {
    "tags": []
   },
   "source": [
    "## t-sne plot"
   ]
  },
  {
   "cell_type": "markdown",
   "id": "44d1f340-314a-421f-aa01-0a133a2e5ba9",
   "metadata": {},
   "source": [
    "compare\n",
    "    1. original vs. paulas subset\n",
    "    2. original vs. custom subset\n",
    "    3. original vs. paulas vs. sonjas subset"
   ]
  },
  {
   "cell_type": "markdown",
   "id": "dd793cdd-6f9e-449a-b477-cb0e2411a574",
   "metadata": {},
   "source": [
    "## fragment similarity between and across kinase groups"
   ]
  },
  {
   "cell_type": "code",
   "execution_count": null,
   "id": "1bb6ceef-e701-40d8-b7f5-9424397802fe",
   "metadata": {},
   "outputs": [],
   "source": []
  },
  {
   "cell_type": "markdown",
   "id": "9a52cf6a-692e-4568-a32f-23b976ed7283",
   "metadata": {},
   "source": [
    "## fragment similarity per subpocket"
   ]
  },
  {
   "cell_type": "code",
   "execution_count": null,
   "id": "3c73d774-682d-4dc8-9086-7ee81c137f1b",
   "metadata": {},
   "outputs": [],
   "source": []
  },
  {
   "cell_type": "markdown",
   "id": "0d998cce-f57b-4c14-950b-564b8995668e",
   "metadata": {},
   "source": [
    "## fragment properties"
   ]
  },
  {
   "cell_type": "markdown",
   "id": "c059b9db-b184-4eb9-9817-0eb1cca37ad7",
   "metadata": {},
   "source": [
    "1. one for each filter step\n",
    "2. one for custom filtered library"
   ]
  },
  {
   "cell_type": "markdown",
   "id": "ac221038-0eb4-47c8-8540-4d71238e9999",
   "metadata": {},
   "source": [
    "## conncection frequency"
   ]
  },
  {
   "cell_type": "code",
   "execution_count": null,
   "id": "7e4b8e05-9b97-4d91-bb95-13fb7f8f94fb",
   "metadata": {},
   "outputs": [],
   "source": []
  },
  {
   "cell_type": "markdown",
   "id": "44c1f1df-049e-4ffd-8ce3-bb1839028b8f",
   "metadata": {},
   "source": [
    "## most common fragments per subpocket"
   ]
  },
  {
   "cell_type": "code",
   "execution_count": null,
   "id": "c3e6c87a-08c8-4cb2-a04c-4ebf9f3461e4",
   "metadata": {},
   "outputs": [],
   "source": []
  }
 ],
 "metadata": {
  "kernelspec": {
   "display_name": "Python 3 (ipykernel)",
   "language": "python",
   "name": "python3"
  },
  "language_info": {
   "codemirror_mode": {
    "name": "ipython",
    "version": 3
   },
   "file_extension": ".py",
   "mimetype": "text/x-python",
   "name": "python",
   "nbconvert_exporter": "python",
   "pygments_lexer": "ipython3",
   "version": "3.8.12"
  }
 },
 "nbformat": 4,
 "nbformat_minor": 5
}
