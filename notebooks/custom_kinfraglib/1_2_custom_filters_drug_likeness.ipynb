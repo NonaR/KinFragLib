{
 "cells": [
  {
   "cell_type": "markdown",
   "id": "2c7f363a-9ffe-41bf-97dc-eef0bc56f206",
   "metadata": {},
   "source": [
    "# Filter fragments for drug likeness"
   ]
  },
  {
   "cell_type": "markdown",
   "id": "8c2d9a60-89b7-419f-a7bf-280ee08368db",
   "metadata": {},
   "source": [
    "## Aim of this notebook"
   ]
  },
  {
   "cell_type": "markdown",
   "id": "688e45e3-605f-442d-ac01-b92068fb635b",
   "metadata": {},
   "source": [
    "This notebook is filtering the fragments for drug likeness. \n",
    "* The first filter step checks whether the fragments fulfill the Rule of Three (Ro3) ([Drug Discovery Today, 2003, 8(19):876-877](https://www.sciencedirect.com/science/article/abs/pii/S1359644603028319?via%3Dihub)). \n",
    "* The second filter calculates the Quantitative Estimate of Druglikeness (QED) ([Nat Chem. 2012 Jan 24; 4(2): 90–98](https://www.nature.com/articles/nchem.1243)), reflecting the molecular properties of the fragments."
   ]
  },
  {
   "cell_type": "markdown",
   "id": "791bf17a-a11b-4bd1-856e-c84dc5d84e4d",
   "metadata": {},
   "source": [
    "## Table of contents\n",
    "1. Load fragment library\n",
    "2. Apply pre-filters\n",
    "3. Filter for Rule of Three (Ro3)\n",
    "4. Filter for Quantitative Estimate of Druglikeness (QED)\n",
    "5. Analyze accepted/rejected fragments\n",
    "\n",
    "    5.1. Count number of fragments that are accepted by the filter(s)\n",
    "    \n",
    "    5.2. Histogram of QED values"
   ]
  },
  {
   "cell_type": "markdown",
   "id": "28fdcb9a-62e4-421c-94e0-feb2f49a187d",
   "metadata": {},
   "source": [
    "## Imports and preprocessing"
   ]
  },
  {
   "cell_type": "code",
   "execution_count": 1,
   "id": "e21ff76d-e6b9-41d5-8c99-9c8cf331111d",
   "metadata": {},
   "outputs": [
    {
     "ename": "ImportError",
     "evalue": "cannot import name 'building_blocks' from partially initialized module 'kinfraglib.filters' (most likely due to a circular import) (/home/nona/masterthesis/KinFragLib/kinfraglib/filters/__init__.py)",
     "output_type": "error",
     "traceback": [
      "\u001b[0;31m---------------------------------------------------------------------------\u001b[0m",
      "\u001b[0;31mImportError\u001b[0m                               Traceback (most recent call last)",
      "\u001b[0;32m/tmp/ipykernel_6985/999671416.py\u001b[0m in \u001b[0;36m<module>\u001b[0;34m\u001b[0m\n\u001b[1;32m      4\u001b[0m \u001b[0;32mfrom\u001b[0m \u001b[0mrdkit\u001b[0m\u001b[0;34m.\u001b[0m\u001b[0mChem\u001b[0m \u001b[0;32mimport\u001b[0m \u001b[0mPandasTools\u001b[0m\u001b[0;34m\u001b[0m\u001b[0;34m\u001b[0m\u001b[0m\n\u001b[1;32m      5\u001b[0m \u001b[0;34m\u001b[0m\u001b[0m\n\u001b[0;32m----> 6\u001b[0;31m \u001b[0;32mfrom\u001b[0m \u001b[0mkinfraglib\u001b[0m \u001b[0;32mimport\u001b[0m \u001b[0mutils\u001b[0m\u001b[0;34m\u001b[0m\u001b[0;34m\u001b[0m\u001b[0m\n\u001b[0m\u001b[1;32m      7\u001b[0m \u001b[0;32mfrom\u001b[0m \u001b[0mkinfraglib\u001b[0m \u001b[0;32mimport\u001b[0m \u001b[0mfilters\u001b[0m\u001b[0;34m\u001b[0m\u001b[0;34m\u001b[0m\u001b[0m\n",
      "\u001b[0;32m~/masterthesis/KinFragLib/kinfraglib/__init__.py\u001b[0m in \u001b[0;36m<module>\u001b[0;34m\u001b[0m\n\u001b[0;32m----> 1\u001b[0;31m \u001b[0;32mfrom\u001b[0m \u001b[0;34m.\u001b[0m \u001b[0;32mimport\u001b[0m \u001b[0mutils\u001b[0m\u001b[0;34m,\u001b[0m \u001b[0mfilters\u001b[0m\u001b[0;34m\u001b[0m\u001b[0;34m\u001b[0m\u001b[0m\n\u001b[0m",
      "\u001b[0;32m~/masterthesis/KinFragLib/kinfraglib/filters/__init__.py\u001b[0m in \u001b[0;36m<module>\u001b[0;34m\u001b[0m\n\u001b[0;32m----> 1\u001b[0;31m from . import (\n\u001b[0m\u001b[1;32m      2\u001b[0m     \u001b[0mplots\u001b[0m\u001b[0;34m,\u001b[0m\u001b[0;34m\u001b[0m\u001b[0;34m\u001b[0m\u001b[0m\n\u001b[1;32m      3\u001b[0m     \u001b[0mcheck\u001b[0m\u001b[0;34m,\u001b[0m\u001b[0;34m\u001b[0m\u001b[0;34m\u001b[0m\u001b[0m\n\u001b[1;32m      4\u001b[0m     \u001b[0mprefilters\u001b[0m\u001b[0;34m,\u001b[0m\u001b[0;34m\u001b[0m\u001b[0;34m\u001b[0m\u001b[0m\n\u001b[1;32m      5\u001b[0m     \u001b[0manalysis\u001b[0m\u001b[0;34m,\u001b[0m\u001b[0;34m\u001b[0m\u001b[0;34m\u001b[0m\u001b[0m\n",
      "\u001b[0;32m~/masterthesis/KinFragLib/kinfraglib/filters/check.py\u001b[0m in \u001b[0;36m<module>\u001b[0;34m\u001b[0m\n\u001b[1;32m      2\u001b[0m \u001b[0mContains\u001b[0m \u001b[0mfunctions\u001b[0m \u001b[0mto\u001b[0m \u001b[0mcheck\u001b[0m \u001b[0mwhich\u001b[0m \u001b[0mfragments\u001b[0m \u001b[0mare\u001b[0m \u001b[0maccepted\u001b[0m \u001b[0;32mor\u001b[0m \u001b[0mrejected\u001b[0m\u001b[0;34m\u001b[0m\u001b[0;34m\u001b[0m\u001b[0m\n\u001b[1;32m      3\u001b[0m \"\"\"\n\u001b[0;32m----> 4\u001b[0;31m \u001b[0;32mfrom\u001b[0m \u001b[0;34m.\u001b[0m \u001b[0;32mimport\u001b[0m \u001b[0mbuilding_blocks\u001b[0m\u001b[0;34m\u001b[0m\u001b[0;34m\u001b[0m\u001b[0m\n\u001b[0m\u001b[1;32m      5\u001b[0m \u001b[0;32mimport\u001b[0m \u001b[0moperator\u001b[0m\u001b[0;34m\u001b[0m\u001b[0;34m\u001b[0m\u001b[0m\n\u001b[1;32m      6\u001b[0m \u001b[0;34m\u001b[0m\u001b[0m\n",
      "\u001b[0;31mImportError\u001b[0m: cannot import name 'building_blocks' from partially initialized module 'kinfraglib.filters' (most likely due to a circular import) (/home/nona/masterthesis/KinFragLib/kinfraglib/filters/__init__.py)"
     ]
    }
   ],
   "source": [
    "from pathlib import Path\n",
    "\n",
    "import pandas as pd\n",
    "from rdkit.Chem import PandasTools\n",
    "\n",
    "from kinfraglib import utils\n",
    "from kinfraglib import filters"
   ]
  },
  {
   "cell_type": "code",
   "execution_count": null,
   "id": "b0b98f88-8429-47fa-9ca6-9b4d2c225119",
   "metadata": {},
   "outputs": [],
   "source": [
    "%load_ext autoreload\n",
    "%autoreload 2"
   ]
  },
  {
   "cell_type": "code",
   "execution_count": null,
   "id": "ca329332-8304-46ad-85da-291709385db3",
   "metadata": {},
   "outputs": [],
   "source": [
    "# Needed to display ROMol images in DataFrames\n",
    "PandasTools.RenderImagesInAllDataFrames(images=True)"
   ]
  },
  {
   "cell_type": "markdown",
   "id": "18774eb6-3f6f-45ea-b58f-7388e8c85b12",
   "metadata": {},
   "source": [
    "### Define global Paths"
   ]
  },
  {
   "cell_type": "code",
   "execution_count": null,
   "id": "b69f472d-063d-4897-84d0-ca03fb9d5129",
   "metadata": {},
   "outputs": [],
   "source": [
    "# Path to data\n",
    "HERE = Path().resolve()\n",
    "PATH_DATA = HERE / \"../../data\""
   ]
  },
  {
   "cell_type": "markdown",
   "id": "cd394dd5-0f9a-49a1-b465-767121ea6cd7",
   "metadata": {},
   "source": [
    "## 1. Load fragment library\n",
    "\n",
    "The fragment library is stored as a dictionary, with the individual subpockets as keys."
   ]
  },
  {
   "cell_type": "code",
   "execution_count": null,
   "id": "839a6067-16d4-4077-9252-cceb56261fc8",
   "metadata": {},
   "outputs": [],
   "source": [
    "fragment_library_original = utils.read_fragment_library(PATH_DATA / \"fragment_library\")"
   ]
  },
  {
   "cell_type": "code",
   "execution_count": null,
   "id": "67852002-8ed8-4230-813e-492a590df8d3",
   "metadata": {},
   "outputs": [],
   "source": [
    "fragment_library_original.keys()"
   ]
  },
  {
   "cell_type": "code",
   "execution_count": null,
   "id": "1d8ce30a-c2c9-4305-a1a5-139898306744",
   "metadata": {},
   "outputs": [],
   "source": [
    "pd.concat(fragment_library_original).reset_index(drop=True).shape"
   ]
  },
  {
   "cell_type": "markdown",
   "id": "0cc41e97-4cdf-426c-b1f4-92723a979776",
   "metadata": {},
   "source": [
    "## 2. Apply pre-filters\n",
    "Pre-filters include \n",
    "- removing fragments in pool X\n",
    "- removing duplicates\n",
    "- removing fragments without dummy atoms (unfragmented ligands)\n",
    "- removing fragments only connecting to pool X"
   ]
  },
  {
   "cell_type": "code",
   "execution_count": null,
   "id": "ed3c2041-0404-4711-bdac-c36a85e2940c",
   "metadata": {},
   "outputs": [],
   "source": [
    "fragment_library = filters.prefilters.pre_filters(fragment_library_original)"
   ]
  },
  {
   "cell_type": "code",
   "execution_count": null,
   "id": "c712bf41-00fc-4713-ad12-a2d2723f7bd4",
   "metadata": {},
   "outputs": [],
   "source": [
    "fragment_library[\"AP\"].head()"
   ]
  },
  {
   "cell_type": "markdown",
   "id": "17a6cd26-296f-441a-8d36-97d28e660909",
   "metadata": {},
   "source": [
    "Count number of fragments in the original fragment library and after pre-filtering the fragment library."
   ]
  },
  {
   "cell_type": "code",
   "execution_count": null,
   "id": "8c710616-304e-4696-97f5-3d4792f7f885",
   "metadata": {},
   "outputs": [],
   "source": [
    "num_fragments = pd.concat(\n",
    "    [\n",
    "        filters.analysis.count_fragments(fragment_library_original, \"original\"),\n",
    "        filters.analysis.count_fragments(fragment_library, \"pre_filtered\"),\n",
    "    ],\n",
    "    axis=1,\n",
    ")\n",
    "num_fragments.append(num_fragments.sum().rename('Total'))"
   ]
  },
  {
   "cell_type": "markdown",
   "id": "5d89140d-2abb-4aab-8255-ee404d36769b",
   "metadata": {},
   "source": [
    "## 3. Filter for Rule of Three (Ro3)"
   ]
  },
  {
   "cell_type": "markdown",
   "id": "b08461ab-0379-4d3b-8840-fd5a85bc68c2",
   "metadata": {},
   "source": [
    "The Rule of Three (Ro3) ([Drug Discovery Today, 2003, 8(19):876-877](https://www.sciencedirect.com/science/article/abs/pii/S1359644603028319?via%3Dihub)) is adapted from the Rule of Five (Ro5) ([\n",
    "J Pharmacol Toxicol Methods, 2000, 44(1): 235-249](https://www.sciencedirect.com/science/article/abs/pii/S1056871900001076?via%3Dihub)) to check if small molecules make good lead compounds.\n",
    "It is looking at the molecular properties, namely\n",
    "- molecular weight (MW) <= 300\n",
    "- number of hydrogen bond acceptor (HBA) <= 3\n",
    "- number of hydrogen bond donor (HBD) <= 3\n",
    "- number of rotatable bonds (NROT) <= 3\n",
    "- polar surface area (PSA) <= 60"
   ]
  },
  {
   "cell_type": "code",
   "execution_count": null,
   "id": "e19dad22-c75e-4c4d-8ac7-26438445a28d",
   "metadata": {},
   "outputs": [],
   "source": [
    "filters.drug_likeness.get_ro3_frags?"
   ]
  },
  {
   "cell_type": "code",
   "execution_count": null,
   "id": "a31c893f-f85d-455a-9fe3-9c01f81050f1",
   "metadata": {},
   "outputs": [],
   "source": [
    "fragment_library = filters.drug_likeness.get_ro3_frags(fragment_library)"
   ]
  },
  {
   "cell_type": "markdown",
   "id": "5e8e78ab-1afc-4a29-bc76-0f01408fce87",
   "metadata": {},
   "source": [
    "Inspect individual subpockets, including the new column if Ro3 fulfilled (`bool_ro3`). "
   ]
  },
  {
   "cell_type": "code",
   "execution_count": null,
   "id": "493c4061-4a42-47b2-8e80-dc831baa97a7",
   "metadata": {},
   "outputs": [],
   "source": [
    "fragment_library[\"AP\"].head()"
   ]
  },
  {
   "cell_type": "markdown",
   "id": "1cf9e65b-7847-4139-a4c4-8d3f91cea2e7",
   "metadata": {},
   "source": [
    "Count number of pre-filtered fragments and number of fragments that are accepted and rejected by the Rule of Three filter."
   ]
  },
  {
   "cell_type": "code",
   "execution_count": null,
   "id": "f6aedaa5-af5d-4454-b0b5-0815310f745d",
   "metadata": {},
   "outputs": [],
   "source": [
    "num_fragments_ro3 = pd.concat(\n",
    "    [\n",
    "        filters.analysis.count_fragments(fragment_library, \"pre_filtered\"),\n",
    "        filters.analysis.count_accepted_rejected(\n",
    "            fragment_library, \"bool_ro3\", \"ro3\"\n",
    "        ),\n",
    "    ],\n",
    "    axis=1,\n",
    ")\n",
    "num_fragments_ro3.append(num_fragments_ro3.sum().rename('Total'))"
   ]
  },
  {
   "cell_type": "markdown",
   "id": "1a429670-b20d-4ba9-9188-1cb7c896a1d0",
   "metadata": {},
   "source": [
    "## 4. Filter for Quantitative Estimate of Druglikeness (QED)"
   ]
  },
  {
   "cell_type": "markdown",
   "id": "54aea94d-b3bc-4c0c-8e13-65b8acc710c1",
   "metadata": {},
   "source": [
    "Quantitative Estimate of Druglikeness (QED) ([Nat Chem. 2012 Jan 24; 4(2): 90–98](https://www.nature.com/articles/nchem.1243)) reflects the distribution of the molecular properties, namely\n",
    "\n",
    "* molecular weight\n",
    "* octanol-water-partition-coefficient\n",
    "* number of hydrogen bond donor and acceptor, \n",
    "* polar surface area, \n",
    "* number of rotatable bonds, \n",
    "* number of aromatic rings \n",
    "* and number of structural alerts. \n",
    "\n",
    "For each property, a desirability function is used and with them the estimate is calculated."
   ]
  },
  {
   "cell_type": "code",
   "execution_count": null,
   "id": "c954d397-c471-4091-9ad5-d956e9d3cdce",
   "metadata": {},
   "outputs": [],
   "source": [
    "filters.drug_likeness.get_qed?"
   ]
  },
  {
   "cell_type": "code",
   "execution_count": null,
   "id": "e4b4015d-f41c-429d-9fd3-07a4faa0ae12",
   "metadata": {},
   "outputs": [],
   "source": [
    "fragment_library = filters.drug_likeness.get_qed(fragment_library, cutoff_val=0.492)"
   ]
  },
  {
   "cell_type": "markdown",
   "id": "62d13015-6794-46f0-8b89-236477b30d3d",
   "metadata": {},
   "source": [
    "Inspect individual subpockets, including the new column if QED threshold fulfilled or not per fragment (`bool_qed`) and calculated QED values (`qed`). "
   ]
  },
  {
   "cell_type": "code",
   "execution_count": null,
   "id": "736f1790-40c5-4cbc-bc82-08d778fba09a",
   "metadata": {},
   "outputs": [],
   "source": [
    "fragment_library[\"AP\"].head()"
   ]
  },
  {
   "cell_type": "markdown",
   "id": "18150516-a807-4f67-b4a8-24057fab0498",
   "metadata": {},
   "source": [
    "Count number of pre-filtered fragments and number of fragments that are accepted and rejected by the QED filter."
   ]
  },
  {
   "cell_type": "code",
   "execution_count": null,
   "id": "c64b76c9-7c7d-41c1-9ecf-e2227498d280",
   "metadata": {},
   "outputs": [],
   "source": [
    "num_fragments_qed = pd.concat(\n",
    "    [\n",
    "        filters.analysis.count_fragments(fragment_library, \"pre_filtered\"),\n",
    "        filters.analysis.count_accepted_rejected(\n",
    "            fragment_library, \"bool_qed\", \"qed\"\n",
    "        ),\n",
    "    ],\n",
    "    axis=1,\n",
    ")\n",
    "num_fragments_qed.append(num_fragments_qed.sum().rename('Total'))"
   ]
  },
  {
   "cell_type": "markdown",
   "id": "86821d5e-96d0-4bbb-8361-cb05185b3aed",
   "metadata": {
    "tags": []
   },
   "source": [
    "## 5. Analyze accepted/rejected fragments\n",
    "\n",
    "    5.1. Count number of fragments that are accepted by the filter(s)\n",
    "\n",
    "    5.2. Histogram of QED values"
   ]
  },
  {
   "cell_type": "markdown",
   "id": "caadc4fb-3824-4dcf-9d1a-c55af7b59905",
   "metadata": {},
   "source": [
    "### 5.1. Count number of fragments that are accepted by the filter(s)"
   ]
  },
  {
   "cell_type": "code",
   "execution_count": null,
   "id": "2ee5ec2d-4520-4b85-9ead-06ce2f2e95dc",
   "metadata": {},
   "outputs": [],
   "source": [
    "fragment_library = filters.analysis.number_of_accepted(\n",
    "    fragment_library, columns=[\"bool_ro3\", \"bool_qed\"], min_accepted=2\n",
    ")"
   ]
  },
  {
   "cell_type": "code",
   "execution_count": null,
   "id": "4346069b-b2bf-4d18-a0e9-53f53ca3b7ce",
   "metadata": {},
   "outputs": [],
   "source": [
    "filters.analysis.accepted_num_filters(fragment_library, [\"bool_qed\", \"bool_ro3\"], filtername = \"drug likeness filters\", max_num_accepted = 2)"
   ]
  },
  {
   "cell_type": "markdown",
   "id": "a9e42609-517a-4714-84ff-489f562a8e51",
   "metadata": {},
   "source": [
    "### 5.2. Histogram of QED values\n",
    "Create a histogram for each subpocket showing the QED values and the chosen threshold."
   ]
  },
  {
   "cell_type": "code",
   "execution_count": null,
   "id": "ba548049-9271-4467-820e-c842b86eedcc",
   "metadata": {},
   "outputs": [],
   "source": [
    "filters.plots.make_hists(\n",
    "    fragment_library,\"qed\", \"QED\", plot_stats=False, cutoff=0.42\n",
    ")"
   ]
  },
  {
   "cell_type": "code",
   "execution_count": null,
   "id": "d7eaeaf2-69ac-4838-99ae-39246a2602a7",
   "metadata": {},
   "outputs": [],
   "source": []
  }
 ],
 "metadata": {
  "kernelspec": {
   "display_name": "Python 3 (ipykernel)",
   "language": "python",
   "name": "python3"
  },
  "language_info": {
   "codemirror_mode": {
    "name": "ipython",
    "version": 3
   },
   "file_extension": ".py",
   "mimetype": "text/x-python",
   "name": "python",
   "nbconvert_exporter": "python",
   "pygments_lexer": "ipython3",
   "version": "3.8.12"
  }
 },
 "nbformat": 4,
 "nbformat_minor": 5
}
