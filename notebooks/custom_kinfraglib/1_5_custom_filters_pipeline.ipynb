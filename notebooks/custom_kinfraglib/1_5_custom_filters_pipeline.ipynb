{
 "cells": [
  {
   "cell_type": "markdown",
   "id": "505b19b3-393c-4f04-a14d-b4bfaa5577fd",
   "metadata": {},
   "source": [
    "# Custom filters Pipeline"
   ]
  },
  {
   "cell_type": "markdown",
   "id": "315d6840-93ec-4159-8748-eb19dedc0d5e",
   "metadata": {},
   "source": [
    "Pipeline to apply and modify the following filters to the fragment library:\n",
    "    * Pre-filters (not optional)\n",
    "    * PAINS filter\n",
    "    * Brenk filter\n",
    "    * Rule of Three filter\n",
    "    * Quantitative Estimate of Druglikeness (QED) filter\n",
    "    * Buyable Building Block filter\n",
    "    * SYnthetic Bayesian Accessibility (SYBA) filter\n",
    "    * Pairwise Retrosynthesizability"
   ]
  },
  {
   "cell_type": "markdown",
   "id": "444ffb47-dcf8-4c7d-b52a-1ab45ec2a6eb",
   "metadata": {},
   "source": [
    "## Table of Contents\n",
    "1. Load fragment library\n",
    "2. Apply pre-filters\n",
    "3. Define custom filters parameters\n",
    "* 3.1. PAINS\n",
    "* 3.2. Brenk\n",
    "* 3.3. Rule of Three\n",
    "* 3.4. QED\n",
    "* 3.5. Buyable Building Blocks\n",
    "* 3.6. SYBA\n",
    "* 3.7. Pairwise Retrosynthesizability\n",
    "4. Apply filters with chosen parameters"
   ]
  },
  {
   "cell_type": "code",
   "execution_count": 1,
   "id": "83f121b7-4eb0-44a9-917d-848c3260e78f",
   "metadata": {},
   "outputs": [
    {
     "name": "stderr",
     "output_type": "stream",
     "text": [
      "<frozen importlib._bootstrap>:219: RuntimeWarning: to-Python converter for boost::shared_ptr<RDKit::FilterCatalogEntry const> already registered; second conversion method ignored.\n"
     ]
    }
   ],
   "source": [
    "from pathlib import Path\n",
    "\n",
    "import pandas as pd\n",
    "from rdkit.Chem import PandasTools\n",
    "\n",
    "from kinfraglib import utils\n",
    "from kinfraglib import filters"
   ]
  },
  {
   "cell_type": "code",
   "execution_count": 2,
   "id": "61331f5a-9c09-46d5-953b-8664759d339e",
   "metadata": {},
   "outputs": [],
   "source": [
    "%load_ext autoreload\n",
    "%autoreload 2"
   ]
  },
  {
   "cell_type": "code",
   "execution_count": 3,
   "id": "f9019a43-e297-4994-9e81-afcf9b5c0801",
   "metadata": {},
   "outputs": [],
   "source": [
    "# Needed to display ROMol images in DataFrames\n",
    "PandasTools.RenderImagesInAllDataFrames(images=True)"
   ]
  },
  {
   "cell_type": "markdown",
   "id": "b356fdbb-415f-4453-9ec4-fb8aa2775482",
   "metadata": {},
   "source": [
    "## Globals"
   ]
  },
  {
   "cell_type": "code",
   "execution_count": 4,
   "id": "2009cd65-2f9d-4e10-9b9b-50951135b17f",
   "metadata": {},
   "outputs": [],
   "source": [
    "# Path to data\n",
    "HERE = Path().resolve()\n",
    "PATH_DATA = HERE / \"../../data\""
   ]
  },
  {
   "cell_type": "markdown",
   "id": "aa20f857-e5e0-4494-bd29-de7e2967ee1b",
   "metadata": {},
   "source": [
    "## 1. Load fragment library"
   ]
  },
  {
   "cell_type": "code",
   "execution_count": 5,
   "id": "55c418ee-1661-4691-ae47-df3ccb8c3d79",
   "metadata": {},
   "outputs": [],
   "source": [
    "fragment_library_original = utils.read_fragment_library(PATH_DATA / \"fragment_library\")"
   ]
  },
  {
   "cell_type": "code",
   "execution_count": 6,
   "id": "886c9531-dc1b-4931-ba2e-527ffa2fa2a1",
   "metadata": {},
   "outputs": [
    {
     "data": {
      "text/plain": [
       "dict_keys(['AP', 'FP', 'SE', 'GA', 'B1', 'B2', 'X'])"
      ]
     },
     "execution_count": 6,
     "metadata": {},
     "output_type": "execute_result"
    }
   ],
   "source": [
    "fragment_library_original.keys()"
   ]
  },
  {
   "cell_type": "code",
   "execution_count": 7,
   "id": "5fbd4b60-4b27-4fbb-b841-d283e1e6dcad",
   "metadata": {},
   "outputs": [
    {
     "data": {
      "text/plain": [
       "(7486, 15)"
      ]
     },
     "execution_count": 7,
     "metadata": {},
     "output_type": "execute_result"
    }
   ],
   "source": [
    "pd.concat(fragment_library_original).reset_index(drop=True).shape"
   ]
  },
  {
   "cell_type": "markdown",
   "id": "13ce90a0-5419-400a-aeca-9edd607a0af8",
   "metadata": {},
   "source": [
    "## 2. Define pre-filters\n",
    "Pre-filters are\n",
    "- removing fragments in pool X\n",
    "- removing duplicates\n",
    "- removing fragments without dummy atoms (unfragmented ligands)\n",
    "- removing fragments only connecting to pool X"
   ]
  },
  {
   "cell_type": "code",
   "execution_count": 8,
   "id": "430b6d23-d8bf-4e7e-bfff-ce61763d4634",
   "metadata": {},
   "outputs": [],
   "source": [
    "fragment_library = filters.prefilters.pre_filters(fragment_library_original)"
   ]
  },
  {
   "cell_type": "markdown",
   "id": "8adbcb0e-b3da-449f-bc79-da309aa10ede",
   "metadata": {},
   "source": [
    "## 3. Define custom filters parameters"
   ]
  },
  {
   "cell_type": "markdown",
   "id": "7f793500-db38-4c69-974b-7b756c731da4",
   "metadata": {},
   "source": [
    "The following cells define the parameters for the custom filters. You can modify them according to your needs.\n",
    "If you want to have a closer look on the functionality of the single filters please check out the following notebooks:\n",
    "*link to nb 1_1: notebook applying the unwanted substructure filters (PAINS and Brenk)\n",
    "*link to nb 1_2: notebook applying the drug likeness filters (Ro3 and QED)\n",
    "*link to nb 1_3: notebook applying the synthesizability filters (buyable building blocks and SYBA)\n",
    "*link to nb 1_4: notebook applying pairwise retrosynthesizability "
   ]
  },
  {
   "cell_type": "markdown",
   "id": "32d4d038-de30-48e8-a6fa-0f685bc3bd12",
   "metadata": {
    "tags": []
   },
   "source": [
    "### 3.1. PAINS parameters\n",
    "Defining whether the fragment library should be filtered for PAINS structures."
   ]
  },
  {
   "cell_type": "code",
   "execution_count": 9,
   "id": "8a436f9c-f845-46c5-bacc-e75d4a63fb50",
   "metadata": {},
   "outputs": [
    {
     "data": {
      "text/plain": [
       "{'pains_filter': True}"
      ]
     },
     "execution_count": 9,
     "metadata": {},
     "output_type": "execute_result"
    }
   ],
   "source": [
    "pains_parameters = {\n",
    "    'pains_filter' : True,     # define if the fragments should be filtered for PAINS structures\n",
    "}\n",
    "pains_parameters"
   ]
  },
  {
   "cell_type": "markdown",
   "id": "5d7c2bfc-84a9-428f-a3a2-69a2afc438ae",
   "metadata": {},
   "source": [
    "### 3.2. Brenk et al. parameters\n",
    "Defining whether the fragment library should be filtered for unwanted substructures defined by Brenk et al.\n",
    "If you want to use other structures instead this is possible if you provide a \"unwanted_substructures.csv\"-file with the same structure as the provided one (name and smarts columns seperated by a space). If you do so please specify the path where your unwanted_substructure.csv file is stored."
   ]
  },
  {
   "cell_type": "code",
   "execution_count": 10,
   "id": "533b9d7f-fa1c-49d6-b60b-30a5c624c30b",
   "metadata": {},
   "outputs": [
    {
     "data": {
      "text/plain": [
       "{'brenk_filter': True,\n",
       " 'substructure_file': PosixPath('/home/nona/masterthesis/KinFragLib/notebooks/custom_kinfraglib/../../data/filters/Brenk')}"
      ]
     },
     "execution_count": 10,
     "metadata": {},
     "output_type": "execute_result"
    }
   ],
   "source": [
    "brenk_parameters = {\n",
    "    'brenk_filter' : True,     # define if the fragments should be filtered for Brenk et al. unwanted substructures\n",
    "    'substructure_file' : HERE / \"../../data/filters/Brenk\",     # define where the unwanted substructures file is stored\n",
    "}\n",
    "brenk_parameters"
   ]
  },
  {
   "cell_type": "markdown",
   "id": "7f6af586-10df-47f1-becc-c43d4ab6bf00",
   "metadata": {},
   "source": [
    "### 3.3. Rule of Three parameters\n",
    "Defining if the Rule of Three should be applied and how many of the parameters need to be fulfilled."
   ]
  },
  {
   "cell_type": "code",
   "execution_count": 11,
   "id": "ad36d741-3311-420d-a02a-ddc8f1325716",
   "metadata": {},
   "outputs": [
    {
     "data": {
      "text/plain": [
       "{'ro_3_filter': True, 'min_fulfilled': 6, 'cutoff_crit': '>='}"
      ]
     },
     "execution_count": 11,
     "metadata": {},
     "output_type": "execute_result"
    }
   ],
   "source": [
    "ro3_parameters = {\n",
    "    'ro_3_filter' : True,     # define if the fragments should be filtered by the Rule of Three\n",
    "    'min_fulfilled' : 6,     # define how many parameters of the rule of three should be fulfilled\n",
    "    'cutoff_crit': \">=\"      # define if the number of fulfilled paramateters should be >=, >, <, == or <= than min_fulfilled\n",
    "}\n",
    "ro3_parameters"
   ]
  },
  {
   "cell_type": "markdown",
   "id": "d635b632-f17a-4dfc-b26d-e2eb5ec0a632",
   "metadata": {},
   "source": [
    "### 3.4. QED paramaters\n",
    "Define whether the fragments should be fltered by the QED and which cutoff value is defined. \n",
    "\n",
    "To define the cutoff value check: [Bickerton, Richard & Paolini, Gaia & Besnard, Jérémy & Muresan, Sorel & Hopkins, Andrew. (2012). Quantifying the chemical beauty of drugs. Nature chemistry. 4. 90-8. 10.1038/nchem.1243.](10.1038/nchem.1243)"
   ]
  },
  {
   "cell_type": "code",
   "execution_count": 12,
   "id": "60c3946b-8882-41c7-85b4-7fd69c1c7b2f",
   "metadata": {},
   "outputs": [
    {
     "data": {
      "text/plain": [
       "{'qed_filter': True, 'cutoff_value': 0.42, 'cutoff_crit': '>'}"
      ]
     },
     "execution_count": 12,
     "metadata": {},
     "output_type": "execute_result"
    }
   ],
   "source": [
    "qed_parameters = {\n",
    "    'qed_filter' : True,     # define whether the fragments should be filtered by the QED\n",
    "    'cutoff_value' : 0.42,    # define a cutoff value between 0 and 1. For orientation check the original QED publication\n",
    "    'cutoff_crit' : \">\",     # define whether the QED should be \">\", \"<\", \">=\", \"<=\" or \"==\" compared to the cutoff value\n",
    "}\n",
    "qed_parameters"
   ]
  },
  {
   "cell_type": "markdown",
   "id": "3f169e41-7cfa-4544-850b-ee49e585a60c",
   "metadata": {},
   "source": [
    "### 3.5. Buyable Building Blocks parameters\n",
    "Define whether the fragments should be filtered by comparison with building blocks.\n",
    "To manipulate the building block file check the [mardown file](https://github.com/sonjaleo/KinFragLib/blob/review-update/data/filters/DataWarrior/README.md) describing how it is created."
   ]
  },
  {
   "cell_type": "code",
   "execution_count": 13,
   "id": "b8752297-0a8b-4386-a155-369c71550203",
   "metadata": {},
   "outputs": [
    {
     "data": {
      "text/plain": [
       "{'bb_filter': True,\n",
       " 'bb_file': '/home/nona/masterthesis/KinFragLib/notebooks/custom_kinfraglib/../../data/filters/DataWarrior/Enamine_Building_Blocks.sdf'}"
      ]
     },
     "execution_count": 13,
     "metadata": {},
     "output_type": "execute_result"
    }
   ],
   "source": [
    "bb_parameters = {\n",
    "    'bb_filter' : True,     # define whether the fragments should be filtered by comparison with building blocks\n",
    "    'bb_file' : str(str(PATH_DATA) + \"/filters/DataWarrior/Enamine_Building_Blocks.sdf\"),    # path to file containing building blocks. For creating or changing the building block file check the description above.\n",
    "}\n",
    "bb_parameters"
   ]
  },
  {
   "cell_type": "markdown",
   "id": "163436bc-5275-4f31-a884-a5cbb1dfae9c",
   "metadata": {},
   "source": [
    "### 3.6. SYBA parameters"
   ]
  },
  {
   "cell_type": "code",
   "execution_count": 14,
   "id": "a31bbffa-972f-4e0a-9e18-56913642ef06",
   "metadata": {},
   "outputs": [
    {
     "data": {
      "text/plain": [
       "{'syba_filter': True,\n",
       " 'cutoff_value': 0,\n",
       " 'cutoff_crit': '>',\n",
       " 'query_type': 'mol'}"
      ]
     },
     "execution_count": 14,
     "metadata": {},
     "output_type": "execute_result"
    }
   ],
   "source": [
    "syba_parameters = {\n",
    "    'syba_filter' : True,     # define if the fragment library should be filtered by the SYBA score\n",
    "    'cutoff_value' : 0,     # defining the cutoff value for the SYBA score\n",
    "    'cutoff_crit' : \">\",     # defining how the SYBA score should be compared to the cutoff to be accepted\n",
    "    'query_type' : \"mol\",     # defining is the SYBA score is calculated for the molecule (\"mol\") or for the smiles string (\"smiles\") of the fragment\n",
    "}\n",
    "syba_parameters"
   ]
  },
  {
   "cell_type": "markdown",
   "id": "7a95108f-f29c-4d61-a77b-aa468be134e3",
   "metadata": {},
   "source": [
    "### 3.7. Pairwise Retrosynthesizability"
   ]
  },
  {
   "cell_type": "markdown",
   "id": "43b36c70-2650-42c2-b8aa-9bda2042c21b",
   "metadata": {},
   "source": [
    "⚠ Note: ⚠ This function might run a long time if you accepted more fragments in the previous filter steps than with the default settings."
   ]
  },
  {
   "cell_type": "code",
   "execution_count": 15,
   "id": "c67efbfa-ecf8-45c6-af8d-1fbcb3b4c2ee",
   "metadata": {},
   "outputs": [
    {
     "data": {
      "text/plain": [
       "{'retro_filter': True, 'cutoff_value': 10, 'cutoff_crit': '>='}"
      ]
     },
     "execution_count": 15,
     "metadata": {},
     "output_type": "execute_result"
    }
   ],
   "source": [
    "retro_parameters = {\n",
    "    'retro_filter' : True,     # define whether the pairwise retrosynthesizability filter should be applied or not \n",
    "    'cutoff_value' : 10,     # define in how many retrosynthetic routes a fragment needs to participate to get accepted\n",
    "    'cutoff_crit' : \">=\",     # define if the number of participations needs to be \">\", \"<\", \"==\", \">=\" or \"<=\" compared to the cutoff value\n",
    "}\n",
    "retro_parameters"
   ]
  },
  {
   "cell_type": "markdown",
   "id": "ab520f0b-7eae-4b62-b58f-1c287725b80a",
   "metadata": {},
   "source": [
    "## 4. Apply filters with chosen parameters"
   ]
  },
  {
   "cell_type": "code",
   "execution_count": null,
   "id": "2f3f866f-5c7d-4d73-adcf-78fab5d9f3d2",
   "metadata": {},
   "outputs": [],
   "source": []
  }
 ],
 "metadata": {
  "kernelspec": {
   "display_name": "Python 3 (ipykernel)",
   "language": "python",
   "name": "python3"
  },
  "language_info": {
   "codemirror_mode": {
    "name": "ipython",
    "version": 3
   },
   "file_extension": ".py",
   "mimetype": "text/x-python",
   "name": "python",
   "nbconvert_exporter": "python",
   "pygments_lexer": "ipython3",
   "version": "3.8.12"
  }
 },
 "nbformat": 4,
 "nbformat_minor": 5
}
